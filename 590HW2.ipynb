{
  "nbformat": 4,
  "nbformat_minor": 0,
  "metadata": {
    "colab": {
      "name": "590HW2.ipynb",
      "version": "0.3.2",
      "provenance": []
    },
    "kernelspec": {
      "name": "python3",
      "display_name": "Python 3"
    }
  },
  "cells": [
    {
      "metadata": {
        "id": "WO07I45rsbP4",
        "colab_type": "code",
        "colab": {}
      },
      "cell_type": "code",
      "source": [
        "import matplotlib.pyplot as plt"
      ],
      "execution_count": 0,
      "outputs": []
    },
    {
      "metadata": {
        "id": "--7dl5gexaqk",
        "colab_type": "code",
        "colab": {
          "base_uri": "https://localhost:8080/",
          "height": 34
        },
        "outputId": "538e288d-1ea4-4797-f107-a5a92a7194a2"
      },
      "cell_type": "code",
      "source": [
        "# --- Load data ---\n",
        "from keras.datasets import fashion_mnist"
      ],
      "execution_count": 6,
      "outputs": [
        {
          "output_type": "stream",
          "text": [
            "Using TensorFlow backend.\n"
          ],
          "name": "stderr"
        }
      ]
    },
    {
      "metadata": {
        "id": "b4eOsLQ3xe4v",
        "colab_type": "code",
        "colab": {
          "base_uri": "https://localhost:8080/",
          "height": 153
        },
        "outputId": "9073cf86-a619-410e-f62d-14e2a60e954c"
      },
      "cell_type": "code",
      "source": [
        "(X_train, y_train), (X_test, y_test) = fashion_mnist.load_data()"
      ],
      "execution_count": 41,
      "outputs": [
        {
          "output_type": "stream",
          "text": [
            "Downloading data from http://fashion-mnist.s3-website.eu-central-1.amazonaws.com/train-labels-idx1-ubyte.gz\n",
            "32768/29515 [=================================] - 0s 3us/step\n",
            "Downloading data from http://fashion-mnist.s3-website.eu-central-1.amazonaws.com/train-images-idx3-ubyte.gz\n",
            "26427392/26421880 [==============================] - 2s 0us/step\n",
            "Downloading data from http://fashion-mnist.s3-website.eu-central-1.amazonaws.com/t10k-labels-idx1-ubyte.gz\n",
            "8192/5148 [===============================================] - 0s 0us/step\n",
            "Downloading data from http://fashion-mnist.s3-website.eu-central-1.amazonaws.com/t10k-images-idx3-ubyte.gz\n",
            "4423680/4422102 [==============================] - 1s 0us/step\n"
          ],
          "name": "stdout"
        }
      ]
    },
    {
      "metadata": {
        "id": "ZHcJa9ZEy0EH",
        "colab_type": "code",
        "colab": {}
      },
      "cell_type": "code",
      "source": [
        "from keras.layers import Input, Dense, Conv2D, MaxPooling2D, UpSampling2D\n",
        "from keras.models import Model\n",
        "from keras import backend as K\n",
        "\n",
        "input_img = Input(shape=(28, 28, 1))  # adapt this if using `channels_first` image data format\n",
        "\n",
        "x = Conv2D(16, (3, 3), activation='relu', padding='same')(input_img)\n",
        "x = MaxPooling2D((2, 2), padding='same')(x)\n",
        "x = Conv2D(8, (3, 3), activation='relu', padding='same')(x)\n",
        "x = MaxPooling2D((2, 2), padding='same')(x)\n",
        "x = Conv2D(8, (3, 3), activation='relu', padding='same')(x)\n",
        "encoded = MaxPooling2D((2, 2), padding='same')(x)\n",
        "\n",
        "# at this point the representation is (4, 4, 8) i.e. 128-dimensional\n",
        "\n",
        "x = Conv2D(8, (3, 3), activation='relu', padding='same')(encoded)\n",
        "x = UpSampling2D((2, 2))(x)\n",
        "x = Conv2D(8, (3, 3), activation='relu', padding='same')(x)\n",
        "x = UpSampling2D((2, 2))(x)\n",
        "x = Conv2D(16, (3, 3), activation='relu')(x)\n",
        "x = UpSampling2D((2, 2))(x)\n",
        "decoded = Conv2D(1, (3, 3), activation='sigmoid', padding='same')(x)\n",
        "\n",
        "autoencoder = Model(input_img, decoded)\n",
        "autoencoder.compile(optimizer='adadelta', loss='binary_crossentropy')"
      ],
      "execution_count": 0,
      "outputs": []
    },
    {
      "metadata": {
        "id": "3izrRp1wy45X",
        "colab_type": "code",
        "colab": {}
      },
      "cell_type": "code",
      "source": [
        "from keras.datasets import fashion_mnist\n",
        "import numpy as np"
      ],
      "execution_count": 0,
      "outputs": []
    },
    {
      "metadata": {
        "id": "03oMhVZvy_pU",
        "colab_type": "code",
        "colab": {}
      },
      "cell_type": "code",
      "source": [
        "(x_train, y_train), (x_test, y_test) = fashion_mnist.load_data()\n",
        "\n",
        "x_train = x_train.astype('float32') / 255.\n",
        "x_test = x_test.astype('float32') / 255.\n",
        "x_train = np.reshape(x_train, (len(x_train), 28, 28, 1))  # adapt this if using `channels_first` image data format\n",
        "x_test = np.reshape(x_test, (len(x_test), 28, 28, 1))  # adapt this if using `channels_first` image data format"
      ],
      "execution_count": 0,
      "outputs": []
    },
    {
      "metadata": {
        "id": "9LDLYQm1zA22",
        "colab_type": "code",
        "colab": {
          "base_uri": "https://localhost:8080/",
          "height": 51
        },
        "outputId": "e51a3c22-4590-48ac-8a6a-6ce9195e7d86"
      },
      "cell_type": "code",
      "source": [
        "# --- Checking size of MNIST Set ---\n",
        "print(\"The number of training examples: \"+str(X_train.shape))\n",
        "print(\"The number of test examples: \"+str(X_test.shape))"
      ],
      "execution_count": 7,
      "outputs": [
        {
          "output_type": "stream",
          "text": [
            "The number of training examples: (60000, 28, 28)\n",
            "The number of test examples: (10000, 28, 28)\n"
          ],
          "name": "stdout"
        }
      ]
    },
    {
      "metadata": {
        "id": "uf6c6yRkzESS",
        "colab_type": "code",
        "colab": {
          "base_uri": "https://localhost:8080/",
          "height": 391
        },
        "outputId": "afa5172d-5c5a-46cf-8cee-7fbe29715550"
      },
      "cell_type": "code",
      "source": [
        "autoencoder.fit(x_train, x_train,\n",
        "                epochs=10,\n",
        "                batch_size=128,\n",
        "                shuffle=True,\n",
        "                validation_data=(x_test, x_test))"
      ],
      "execution_count": 8,
      "outputs": [
        {
          "output_type": "stream",
          "text": [
            "Train on 60000 samples, validate on 10000 samples\n",
            "Epoch 1/10\n",
            "60000/60000 [==============================] - 88s 1ms/step - loss: 0.3682 - val_loss: 0.3289\n",
            "Epoch 2/10\n",
            "60000/60000 [==============================] - 89s 1ms/step - loss: 0.3235 - val_loss: 0.3197\n",
            "Epoch 3/10\n",
            "60000/60000 [==============================] - 87s 1ms/step - loss: 0.3155 - val_loss: 0.3099\n",
            "Epoch 4/10\n",
            "60000/60000 [==============================] - 87s 1ms/step - loss: 0.3098 - val_loss: 0.3071\n",
            "Epoch 5/10\n",
            "60000/60000 [==============================] - 87s 1ms/step - loss: 0.3061 - val_loss: 0.3069\n",
            "Epoch 6/10\n",
            "60000/60000 [==============================] - 88s 1ms/step - loss: 0.3041 - val_loss: 0.3032\n",
            "Epoch 7/10\n",
            "60000/60000 [==============================] - 87s 1ms/step - loss: 0.3021 - val_loss: 0.3067\n",
            "Epoch 8/10\n",
            "60000/60000 [==============================] - 87s 1ms/step - loss: 0.3005 - val_loss: 0.2989\n",
            "Epoch 9/10\n",
            "60000/60000 [==============================] - 87s 1ms/step - loss: 0.2994 - val_loss: 0.2999\n",
            "Epoch 10/10\n",
            "60000/60000 [==============================] - 86s 1ms/step - loss: 0.2982 - val_loss: 0.3003\n"
          ],
          "name": "stdout"
        },
        {
          "output_type": "execute_result",
          "data": {
            "text/plain": [
              "<keras.callbacks.History at 0x7f827ab9c8d0>"
            ]
          },
          "metadata": {
            "tags": []
          },
          "execution_count": 8
        }
      ]
    },
    {
      "metadata": {
        "id": "_StOF7b52zwQ",
        "colab_type": "code",
        "colab": {
          "base_uri": "https://localhost:8080/",
          "height": 284
        },
        "outputId": "3d419799-4dab-43c0-e647-a033cd335404"
      },
      "cell_type": "code",
      "source": [
        "#autoencoder.save('Antoencoder.h5')\n",
        "\n",
        "decoded_imgs = autoencoder.predict(x_test)\n",
        "\n",
        "n = 10\n",
        "plt.figure(figsize=(20, 4))\n",
        "for i in range(n):\n",
        "    # display original\n",
        "    ax = plt.subplot(2, n, i+1)\n",
        "    plt.imshow(x_test[i].reshape(28, 28))\n",
        "    plt.gray()\n",
        "    ax.get_xaxis().set_visible(False)\n",
        "    ax.get_yaxis().set_visible(False)\n",
        "\n",
        "    # display reconstruction\n",
        "    ax = plt.subplot(2, n, i + n+1)\n",
        "    plt.imshow(decoded_imgs[i].reshape(28, 28))\n",
        "    plt.gray()\n",
        "    ax.get_xaxis().set_visible(False)\n",
        "    ax.get_yaxis().set_visible(False)\n",
        "plt.show()"
      ],
      "execution_count": 9,
      "outputs": [
        {
          "output_type": "display_data",
          "data": {
            "image/png": "[encoded data removed]",
            "text/plain": [
              "<matplotlib.figure.Figure at 0x7f827ab9c2b0>"
            ]
          },
          "metadata": {
            "tags": []
          }
        }
      ]
    },
    {
      "metadata": {
        "id": "1VmUMsDW26gV",
        "colab_type": "text"
      },
      "cell_type": "markdown",
      "source": [
        "2"
      ]
    },
    {
      "metadata": {
        "id": "ecmX_Bhm2-ZF",
        "colab_type": "code",
        "colab": {}
      },
      "cell_type": "code",
      "source": [
        "# ======================\n",
        "#  Importing Librarires\n",
        "# ======================\n",
        "import tensorflow as tf\n",
        "import keras\n",
        "import numpy as np\n",
        "%matplotlib inline\n",
        "from matplotlib import pyplot as plt\n",
        "import pandas as pd\n",
        "\n",
        "# For reproducibility\n",
        "np.random.seed(123) "
      ],
      "execution_count": 0,
      "outputs": []
    },
    {
      "metadata": {
        "id": "mhr7itKm3Baq",
        "colab_type": "code",
        "colab": {}
      },
      "cell_type": "code",
      "source": [
        "# ===========================================\n",
        "#  Importing model and core layers in Keras\n",
        "# ==========================================\n",
        "# Importing the sequential model in Keras\n",
        "# Used as a linear stack of nn layers\n",
        "from keras.models import Sequential\n",
        "\n",
        "# Importing core neural networks layers \n",
        "from keras.layers import Dense, Dropout, Activation, Flatten\n",
        "\n",
        "# Importing CNN layers\n",
        "from keras.layers import Conv2D, MaxPooling2D\n",
        "\n",
        "# Tools for data transformation\n",
        "from keras.utils import np_utils"
      ],
      "execution_count": 0,
      "outputs": []
    },
    {
      "metadata": {
        "id": "zRemyfiC7FE1",
        "colab_type": "code",
        "colab": {
          "base_uri": "https://localhost:8080/",
          "height": 85
        },
        "outputId": "e14a828c-5fb3-4f9b-fe83-0c92a399d012"
      },
      "cell_type": "code",
      "source": [
        "# Load pre-shuffled MNIST data into train and test sets\n",
        "(X_train, y_train), (X_test, y_test) = fashion_mnist.load_data()\n",
        "\n",
        "# ========================\n",
        "#  Data Munging/Reshaping\n",
        "# ========================\n",
        "# Declaring a depth of 1 for MNIST\n",
        "X_train = X_train.reshape(X_train.shape[0], 28, 28,1)\n",
        "X_test = X_test.reshape(X_test.shape[0], 28, 28,1)\n",
        "\n",
        "# Setting up calues as float32s that are bounded between 0 and 1\n",
        "X_train = X_train.astype('float32')\n",
        "X_test = X_test.astype('float32')\n",
        "X_train /= 255\n",
        "X_test /= 255\n",
        "\n",
        "# Processing class labels they are currently a numeric vector\n",
        "# ----> we need to transform them into categories\n",
        "print(y_train.shape)\n",
        "print(y_train[:10])\n",
        "\n",
        "# We do this through one-hot encoding\n",
        "# Convert 1-dimensional class arrays to 10-dimensional class matrices\n",
        "Y_train = np_utils.to_categorical(y_train, 10)\n",
        "Y_test = np_utils.to_categorical(y_test, 10)\n",
        "# Check the shape\n",
        "print(X_train.shape)\n",
        "print(X_test.shape)"
      ],
      "execution_count": 12,
      "outputs": [
        {
          "output_type": "stream",
          "text": [
            "(60000,)\n",
            "[9 0 0 3 0 2 7 2 5 5]\n",
            "(60000, 28, 28, 1)\n",
            "(10000, 28, 28, 1)\n"
          ],
          "name": "stdout"
        }
      ]
    },
    {
      "metadata": {
        "id": "kLVED8IK7Icj",
        "colab_type": "code",
        "colab": {
          "base_uri": "https://localhost:8080/",
          "height": 442
        },
        "outputId": "45bf3b90-7b2e-4452-ffe3-6367b9197079"
      },
      "cell_type": "code",
      "source": [
        "# =============================\n",
        "#  Setting up the Architecture\n",
        "# ============================\n",
        "# Declaring sequential model\n",
        "model = Sequential()\n",
        "# CNN input layer: input_shape: (depth,width,height)\n",
        "# CNN convolution: number of filters, height and width of kernel\n",
        "model.add(Conv2D(filters = 32,kernel_size=(3, 3), \n",
        "                 activation='relu', strides=(1, 1), \n",
        "                 padding='valid',\n",
        "                 input_shape=(28,28,1)))\n",
        "# Notice here the the first entry output is none\n",
        "print(model.output_shape)\n",
        "\n",
        "# Next we add the remaining layers\n",
        "model.add(Conv2D(filters = 32,kernel_size=(3, 3), \n",
        "                 activation='relu', strides=(1, 1), \n",
        "                 padding='valid'))\n",
        "model.add(MaxPooling2D(pool_size=(2,2)))\n",
        "model.add(Dropout(0.25))\n",
        "\n",
        "# Setting up the fully connected layer\n",
        "model.add(Flatten())\n",
        "model.add(Dense(64, activation='relu'))\n",
        "model.add(Dropout(0.5))\n",
        "model.add(Dense(10, activation='softmax'))\n",
        "print(model.summary())"
      ],
      "execution_count": 13,
      "outputs": [
        {
          "output_type": "stream",
          "text": [
            "(None, 26, 26, 32)\n",
            "_________________________________________________________________\n",
            "Layer (type)                 Output Shape              Param #   \n",
            "=================================================================\n",
            "conv2d_8 (Conv2D)            (None, 26, 26, 32)        320       \n",
            "_________________________________________________________________\n",
            "conv2d_9 (Conv2D)            (None, 24, 24, 32)        9248      \n",
            "_________________________________________________________________\n",
            "max_pooling2d_4 (MaxPooling2 (None, 12, 12, 32)        0         \n",
            "_________________________________________________________________\n",
            "dropout_1 (Dropout)          (None, 12, 12, 32)        0         \n",
            "_________________________________________________________________\n",
            "flatten_1 (Flatten)          (None, 4608)              0         \n",
            "_________________________________________________________________\n",
            "dense_1 (Dense)              (None, 64)                294976    \n",
            "_________________________________________________________________\n",
            "dropout_2 (Dropout)          (None, 64)                0         \n",
            "_________________________________________________________________\n",
            "dense_2 (Dense)              (None, 10)                650       \n",
            "=================================================================\n",
            "Total params: 305,194\n",
            "Trainable params: 305,194\n",
            "Non-trainable params: 0\n",
            "_________________________________________________________________\n",
            "None\n"
          ],
          "name": "stdout"
        }
      ]
    },
    {
      "metadata": {
        "id": "MOCVUBSc7Mjy",
        "colab_type": "code",
        "colab": {
          "base_uri": "https://localhost:8080/",
          "height": 374
        },
        "outputId": "080add23-fe35-4b48-901c-5cc8ec29a1d0"
      },
      "cell_type": "code",
      "source": [
        "# =========================================\n",
        "# Multigpu support Function Make-Parallel\n",
        "# ========================================\n",
        "# MultiGPU hack: \n",
        "# https://github.com/rossumai/keras-multi-gpu/tree/master/keras_tf_multigpu\n",
        "\n",
        "# =====================\n",
        "#  Compiling the model\n",
        "# =====================\n",
        "model.compile(loss='categorical_crossentropy',\n",
        "              optimizer='adam',\n",
        "              metrics=['accuracy'])\n",
        "\n",
        "# ===================\n",
        "# Fitting the model\n",
        "# ===================\n",
        "model.fit(X_train, Y_train,\n",
        "          epochs=10,\n",
        "          batch_size=128,\n",
        "         verbose = 1)\n",
        "# =====================\n",
        "#  Evaluating the model\n",
        "# =====================\n",
        "score = model.evaluate(X_test, Y_test, verbose=1)"
      ],
      "execution_count": 14,
      "outputs": [
        {
          "output_type": "stream",
          "text": [
            "Epoch 1/10\n",
            "60000/60000 [==============================] - 108s 2ms/step - loss: 0.6216 - acc: 0.7818\n",
            "Epoch 2/10\n",
            "60000/60000 [==============================] - 108s 2ms/step - loss: 0.4127 - acc: 0.8543\n",
            "Epoch 3/10\n",
            "60000/60000 [==============================] - 107s 2ms/step - loss: 0.3635 - acc: 0.8706\n",
            "Epoch 4/10\n",
            "60000/60000 [==============================] - 107s 2ms/step - loss: 0.3303 - acc: 0.8818\n",
            "Epoch 5/10\n",
            "60000/60000 [==============================] - 108s 2ms/step - loss: 0.3093 - acc: 0.8889\n",
            "Epoch 6/10\n",
            "60000/60000 [==============================] - 107s 2ms/step - loss: 0.2909 - acc: 0.8953\n",
            "Epoch 7/10\n",
            "60000/60000 [==============================] - 107s 2ms/step - loss: 0.2733 - acc: 0.9011\n",
            "Epoch 8/10\n",
            "60000/60000 [==============================] - 107s 2ms/step - loss: 0.2611 - acc: 0.9059\n",
            "Epoch 9/10\n",
            "60000/60000 [==============================] - 106s 2ms/step - loss: 0.2499 - acc: 0.9098\n",
            "Epoch 10/10\n",
            "60000/60000 [==============================] - 107s 2ms/step - loss: 0.2400 - acc: 0.9121\n",
            "10000/10000 [==============================] - 6s 558us/step\n"
          ],
          "name": "stdout"
        }
      ]
    },
    {
      "metadata": {
        "id": "-yGGc9db7TKA",
        "colab_type": "code",
        "colab": {
          "base_uri": "https://localhost:8080/",
          "height": 51
        },
        "outputId": "591226a9-2707-486a-a629-1d0d2ece63fa"
      },
      "cell_type": "code",
      "source": [
        "print('Test loss:', score[0])\n",
        "print('Test accuracy:', score[1])"
      ],
      "execution_count": 15,
      "outputs": [
        {
          "output_type": "stream",
          "text": [
            "Test loss: 0.23543397921323778\n",
            "Test accuracy: 0.9151\n"
          ],
          "name": "stdout"
        }
      ]
    },
    {
      "metadata": {
        "id": "1cs703wm_llp",
        "colab_type": "code",
        "colab": {
          "base_uri": "https://localhost:8080/",
          "height": 407
        },
        "outputId": "f9688615-ae4d-4dc4-c971-fb2046f593ea"
      },
      "cell_type": "code",
      "source": [
        "predicted_values = model.predict_classes(X_test[0:2**9],batch_size=32, verbose=1)\n",
        "pd.crosstab(predicted_values, y_test[0:2**9],\n",
        "            rownames=['Predicted Value'], colnames= ['True Value'] )"
      ],
      "execution_count": 16,
      "outputs": [
        {
          "output_type": "stream",
          "text": [
            "512/512 [==============================] - 0s 628us/step\n"
          ],
          "name": "stdout"
        },
        {
          "output_type": "execute_result",
          "data": {
            "text/html": [
              "<div>\n",
              "<style scoped>\n",
              "    .dataframe tbody tr th:only-of-type {\n",
              "        vertical-align: middle;\n",
              "    }\n",
              "\n",
              "    .dataframe tbody tr th {\n",
              "        vertical-align: top;\n",
              "    }\n",
              "\n",
              "    .dataframe thead th {\n",
              "        text-align: right;\n",
              "    }\n",
              "</style>\n",
              "<table border=\"1\" class=\"dataframe\">\n",
              "  <thead>\n",
              "    <tr style=\"text-align: right;\">\n",
              "      <th>True Value</th>\n",
              "      <th>0</th>\n",
              "      <th>1</th>\n",
              "      <th>2</th>\n",
              "      <th>3</th>\n",
              "      <th>4</th>\n",
              "      <th>5</th>\n",
              "      <th>6</th>\n",
              "      <th>7</th>\n",
              "      <th>8</th>\n",
              "      <th>9</th>\n",
              "    </tr>\n",
              "    <tr>\n",
              "      <th>Predicted Value</th>\n",
              "      <th></th>\n",
              "      <th></th>\n",
              "      <th></th>\n",
              "      <th></th>\n",
              "      <th></th>\n",
              "      <th></th>\n",
              "      <th></th>\n",
              "      <th></th>\n",
              "      <th></th>\n",
              "      <th></th>\n",
              "    </tr>\n",
              "  </thead>\n",
              "  <tbody>\n",
              "    <tr>\n",
              "      <th>0</th>\n",
              "      <td>52</td>\n",
              "      <td>0</td>\n",
              "      <td>2</td>\n",
              "      <td>1</td>\n",
              "      <td>0</td>\n",
              "      <td>0</td>\n",
              "      <td>1</td>\n",
              "      <td>0</td>\n",
              "      <td>0</td>\n",
              "      <td>0</td>\n",
              "    </tr>\n",
              "    <tr>\n",
              "      <th>1</th>\n",
              "      <td>0</td>\n",
              "      <td>53</td>\n",
              "      <td>0</td>\n",
              "      <td>0</td>\n",
              "      <td>0</td>\n",
              "      <td>0</td>\n",
              "      <td>0</td>\n",
              "      <td>0</td>\n",
              "      <td>0</td>\n",
              "      <td>0</td>\n",
              "    </tr>\n",
              "    <tr>\n",
              "      <th>2</th>\n",
              "      <td>0</td>\n",
              "      <td>0</td>\n",
              "      <td>66</td>\n",
              "      <td>0</td>\n",
              "      <td>1</td>\n",
              "      <td>0</td>\n",
              "      <td>3</td>\n",
              "      <td>0</td>\n",
              "      <td>0</td>\n",
              "      <td>0</td>\n",
              "    </tr>\n",
              "    <tr>\n",
              "      <th>3</th>\n",
              "      <td>1</td>\n",
              "      <td>0</td>\n",
              "      <td>0</td>\n",
              "      <td>43</td>\n",
              "      <td>4</td>\n",
              "      <td>0</td>\n",
              "      <td>2</td>\n",
              "      <td>0</td>\n",
              "      <td>0</td>\n",
              "      <td>0</td>\n",
              "    </tr>\n",
              "    <tr>\n",
              "      <th>4</th>\n",
              "      <td>0</td>\n",
              "      <td>0</td>\n",
              "      <td>1</td>\n",
              "      <td>1</td>\n",
              "      <td>49</td>\n",
              "      <td>0</td>\n",
              "      <td>2</td>\n",
              "      <td>0</td>\n",
              "      <td>0</td>\n",
              "      <td>0</td>\n",
              "    </tr>\n",
              "    <tr>\n",
              "      <th>5</th>\n",
              "      <td>0</td>\n",
              "      <td>0</td>\n",
              "      <td>0</td>\n",
              "      <td>0</td>\n",
              "      <td>0</td>\n",
              "      <td>40</td>\n",
              "      <td>0</td>\n",
              "      <td>1</td>\n",
              "      <td>0</td>\n",
              "      <td>2</td>\n",
              "    </tr>\n",
              "    <tr>\n",
              "      <th>6</th>\n",
              "      <td>3</td>\n",
              "      <td>0</td>\n",
              "      <td>2</td>\n",
              "      <td>1</td>\n",
              "      <td>4</td>\n",
              "      <td>0</td>\n",
              "      <td>39</td>\n",
              "      <td>0</td>\n",
              "      <td>0</td>\n",
              "      <td>0</td>\n",
              "    </tr>\n",
              "    <tr>\n",
              "      <th>7</th>\n",
              "      <td>0</td>\n",
              "      <td>0</td>\n",
              "      <td>0</td>\n",
              "      <td>0</td>\n",
              "      <td>0</td>\n",
              "      <td>0</td>\n",
              "      <td>0</td>\n",
              "      <td>47</td>\n",
              "      <td>0</td>\n",
              "      <td>3</td>\n",
              "    </tr>\n",
              "    <tr>\n",
              "      <th>8</th>\n",
              "      <td>0</td>\n",
              "      <td>0</td>\n",
              "      <td>0</td>\n",
              "      <td>0</td>\n",
              "      <td>0</td>\n",
              "      <td>0</td>\n",
              "      <td>0</td>\n",
              "      <td>0</td>\n",
              "      <td>45</td>\n",
              "      <td>0</td>\n",
              "    </tr>\n",
              "    <tr>\n",
              "      <th>9</th>\n",
              "      <td>0</td>\n",
              "      <td>0</td>\n",
              "      <td>0</td>\n",
              "      <td>0</td>\n",
              "      <td>0</td>\n",
              "      <td>0</td>\n",
              "      <td>0</td>\n",
              "      <td>0</td>\n",
              "      <td>0</td>\n",
              "      <td>43</td>\n",
              "    </tr>\n",
              "  </tbody>\n",
              "</table>\n",
              "</div>"
            ],
            "text/plain": [
              "True Value        0   1   2   3   4   5   6   7   8   9\n",
              "Predicted Value                                        \n",
              "0                52   0   2   1   0   0   1   0   0   0\n",
              "1                 0  53   0   0   0   0   0   0   0   0\n",
              "2                 0   0  66   0   1   0   3   0   0   0\n",
              "3                 1   0   0  43   4   0   2   0   0   0\n",
              "4                 0   0   1   1  49   0   2   0   0   0\n",
              "5                 0   0   0   0   0  40   0   1   0   2\n",
              "6                 3   0   2   1   4   0  39   0   0   0\n",
              "7                 0   0   0   0   0   0   0  47   0   3\n",
              "8                 0   0   0   0   0   0   0   0  45   0\n",
              "9                 0   0   0   0   0   0   0   0   0  43"
            ]
          },
          "metadata": {
            "tags": []
          },
          "execution_count": 16
        }
      ]
    },
    {
      "metadata": {
        "id": "ji4SG4NZ_qxR",
        "colab_type": "text"
      },
      "cell_type": "markdown",
      "source": [
        "This network contains 2 convolution layers(ReLu activation function) each with 32 filters of 3 by 3, stride of 1 by 1.\n",
        "The network also contains two dense layers with 64 and 10 neurons respectively. The last layer employed softmax function as the activation function.\n",
        "\n",
        "The model is trained for 10 epochs. The size ratio of training set and test set is 6:1. The training accuracy is about 91.12%  and its test accuracy is aboout 91.52%.\n",
        "\n"
      ]
    },
    {
      "metadata": {
        "id": "jriNeO7Z_ui4",
        "colab_type": "text"
      },
      "cell_type": "markdown",
      "source": [
        "2.2"
      ]
    },
    {
      "metadata": {
        "id": "NBJITN5C_oOC",
        "colab_type": "code",
        "colab": {}
      },
      "cell_type": "code",
      "source": [
        "from keras.applications import VGG16, VGG19\n",
        "import matplotlib.pyplot as plt\n",
        "from keras.preprocessing.image import ImageDataGenerator, array_to_img, img_to_array, load_img\n",
        "from keras.models import Sequential\n",
        "from keras.layers import Dense, Flatten\n",
        "from keras.optimizers import RMSprop"
      ],
      "execution_count": 0,
      "outputs": []
    },
    {
      "metadata": {
        "id": "GbEyz-Fu_5ex",
        "colab_type": "code",
        "colab": {}
      },
      "cell_type": "code",
      "source": [
        "X_train = X_train.reshape(X_train.shape[0], 28, 28,1)\n",
        "X_test = X_test.reshape(X_test.shape[0], 28, 28,1)\n",
        "\n",
        "# Setting up calues as float32s that are bounded between 0 and 1\n",
        "X_train = X_train.astype('float32')\n",
        "X_test = X_test.astype('float32')\n",
        "X_train /= 255\n",
        "X_test /= 255\n",
        "\n",
        "\n",
        "\n",
        "# We do this through one-hot encoding\n",
        "# Convert 1-dimensional class arrays to 10-dimensional class matrices\n",
        "Y_train = np_utils.to_categorical(y_train, 10)\n",
        "Y_test = np_utils.to_categorical(y_test, 10)"
      ],
      "execution_count": 0,
      "outputs": []
    },
    {
      "metadata": {
        "id": "0B4CEF-C_8OU",
        "colab_type": "code",
        "colab": {}
      },
      "cell_type": "code",
      "source": [
        "X_train2 = X_train\n",
        "X_test2 = X_test\n",
        "X_train2 = np.c_[X_train,X_train,X_train]\n",
        "X_test2 = np.c_[X_test, X_test,X_test]\n",
        "X_train2 = np.asarray([img_to_array(array_to_img(im, scale  = False).resize((48,48))) for im in X_train2])/255\n",
        "X_test2 = np.asarray([img_to_array(array_to_img(im, scale  = False).resize((48,48))) for im in X_test2])/255"
      ],
      "execution_count": 0,
      "outputs": []
    },
    {
      "metadata": {
        "id": "ZET7vrlrAAjg",
        "colab_type": "code",
        "colab": {
          "base_uri": "https://localhost:8080/",
          "height": 445
        },
        "outputId": "832c4e63-a9dc-4eaf-ee47-f72ee16c05ef"
      },
      "cell_type": "code",
      "source": [
        "###########################\n",
        "# Coparing to a base model\n",
        "###########################\n",
        "# How does our CNN compare to a dense network?\n",
        "# Declaring sequential model\n",
        "\n",
        "conv_base = VGG19(weights=\"imagenet\",include_top=False,input_shape=(48,48,3))\n",
        "model_dense = Sequential()\n",
        "model_dense.add(conv_base)\n",
        "model_dense.add(Flatten())\n",
        "model_dense.add(Dense(256, activation = \"relu\"))\n",
        "model_dense.add(Dropout(0.5))\n",
        "model_dense.add(Dense(128, activation = \"relu\"))\n",
        "model_dense.add(Dropout(0.5))\n",
        "model_dense.add(Dense(10, activation='softmax'))\n",
        "print(model_dense.summary())"
      ],
      "execution_count": 47,
      "outputs": [
        {
          "output_type": "stream",
          "text": [
            "Downloading data from https://github.com/fchollet/deep-learning-models/releases/download/v0.1/vgg19_weights_tf_dim_ordering_tf_kernels_notop.h5\n",
            "80142336/80134624 [==============================] - 1s 0us/step\n",
            "_________________________________________________________________\n",
            "Layer (type)                 Output Shape              Param #   \n",
            "=================================================================\n",
            "vgg19 (Model)                (None, 1, 1, 512)         20024384  \n",
            "_________________________________________________________________\n",
            "flatten_3 (Flatten)          (None, 512)               0         \n",
            "_________________________________________________________________\n",
            "dense_4 (Dense)              (None, 256)               131328    \n",
            "_________________________________________________________________\n",
            "dropout_1 (Dropout)          (None, 256)               0         \n",
            "_________________________________________________________________\n",
            "dense_5 (Dense)              (None, 128)               32896     \n",
            "_________________________________________________________________\n",
            "dropout_2 (Dropout)          (None, 128)               0         \n",
            "_________________________________________________________________\n",
            "dense_6 (Dense)              (None, 10)                1290      \n",
            "=================================================================\n",
            "Total params: 20,189,898\n",
            "Trainable params: 20,189,898\n",
            "Non-trainable params: 0\n",
            "_________________________________________________________________\n",
            "None\n"
          ],
          "name": "stdout"
        }
      ]
    },
    {
      "metadata": {
        "id": "UEnOxOr1AOB1",
        "colab_type": "code",
        "colab": {
          "base_uri": "https://localhost:8080/",
          "height": 34
        },
        "outputId": "b37cf691-1f29-4158-ae40-699188013d2b"
      },
      "cell_type": "code",
      "source": [
        "X_train2.shape, X_test2.shape"
      ],
      "execution_count": 26,
      "outputs": [
        {
          "output_type": "execute_result",
          "data": {
            "text/plain": [
              "((60000, 48, 48, 3), (10000, 48, 48, 3))"
            ]
          },
          "metadata": {
            "tags": []
          },
          "execution_count": 26
        }
      ]
    },
    {
      "metadata": {
        "id": "KGkjnI_IAWqS",
        "colab_type": "code",
        "colab": {
          "base_uri": "https://localhost:8080/",
          "height": 119
        },
        "outputId": "03d4e910-7958-4323-953d-46df986fa203"
      },
      "cell_type": "code",
      "source": [
        "conv_base.trainable = False\n",
        "model_dense.trainable_weights"
      ],
      "execution_count": 48,
      "outputs": [
        {
          "output_type": "execute_result",
          "data": {
            "text/plain": [
              "[<tf.Variable 'dense_4/kernel:0' shape=(512, 256) dtype=float32_ref>,\n",
              " <tf.Variable 'dense_4/bias:0' shape=(256,) dtype=float32_ref>,\n",
              " <tf.Variable 'dense_5/kernel:0' shape=(256, 128) dtype=float32_ref>,\n",
              " <tf.Variable 'dense_5/bias:0' shape=(128,) dtype=float32_ref>,\n",
              " <tf.Variable 'dense_6/kernel:0' shape=(128, 10) dtype=float32_ref>,\n",
              " <tf.Variable 'dense_6/bias:0' shape=(10,) dtype=float32_ref>]"
            ]
          },
          "metadata": {
            "tags": []
          },
          "execution_count": 48
        }
      ]
    },
    {
      "metadata": {
        "id": "Rvhu6zcOBbKE",
        "colab_type": "code",
        "colab": {}
      },
      "cell_type": "code",
      "source": [
        "#  Compiling the model\n",
        "model_dense.compile(loss='categorical_crossentropy',optimizer='adam',\n",
        "              metrics=['accuracy'])"
      ],
      "execution_count": 0,
      "outputs": []
    },
    {
      "metadata": {
        "id": "xagl_JwuBdrC",
        "colab_type": "code",
        "colab": {
          "base_uri": "https://localhost:8080/",
          "height": 136
        },
        "outputId": "92947429-cdd6-45a7-85ba-ec6bd060e03f"
      },
      "cell_type": "code",
      "source": [
        "# Fitting the model\n",
        "model_dense.fit(X_train2, Y_train,epochs=3,batch_size=128,verbose = 1)\n",
        "\n"
      ],
      "execution_count": 51,
      "outputs": [
        {
          "output_type": "stream",
          "text": [
            "Epoch 1/3\n",
            "60000/60000 [==============================] - 1931s 32ms/step - loss: 2.3112 - acc: 0.0959\n",
            "Epoch 2/3\n",
            "60000/60000 [==============================] - 1930s 32ms/step - loss: 2.3027 - acc: 0.0984\n",
            "Epoch 3/3\n",
            "60000/60000 [==============================] - 1928s 32ms/step - loss: 2.3027 - acc: 0.1007\n"
          ],
          "name": "stdout"
        },
        {
          "output_type": "execute_result",
          "data": {
            "text/plain": [
              "<keras.callbacks.History at 0x7f584cd27da0>"
            ]
          },
          "metadata": {
            "tags": []
          },
          "execution_count": 51
        }
      ]
    },
    {
      "metadata": {
        "id": "IrpH6f2OHEot",
        "colab_type": "code",
        "colab": {
          "base_uri": "https://localhost:8080/",
          "height": 34
        },
        "outputId": "c719310f-30db-441b-c385-09eda56c32f0"
      },
      "cell_type": "code",
      "source": [
        "#  Evaluating the model\n",
        "score_dense = model_dense.evaluate(X_test2, Y_test, verbose=1)"
      ],
      "execution_count": 52,
      "outputs": [
        {
          "output_type": "stream",
          "text": [
            "10000/10000 [==============================] - 329s 33ms/step\n"
          ],
          "name": "stdout"
        }
      ]
    },
    {
      "metadata": {
        "id": "atU5F2-ZHHmA",
        "colab_type": "code",
        "colab": {
          "base_uri": "https://localhost:8080/",
          "height": 51
        },
        "outputId": "a364b7c2-1978-4ed3-e525-6e711d0539c6"
      },
      "cell_type": "code",
      "source": [
        "print('Test loss:', score_dense[0])\n",
        "print('Test accuracy:', score_dense[1])"
      ],
      "execution_count": 53,
      "outputs": [
        {
          "output_type": "stream",
          "text": [
            "Test loss: 2.3026014457702635\n",
            "Test accuracy: 0.1\n"
          ],
          "name": "stdout"
        }
      ]
    },
    {
      "metadata": {
        "id": "1xUVFATCHQC0",
        "colab_type": "text"
      },
      "cell_type": "markdown",
      "source": [
        "We use pretrained VGG19 network with 2 dense layers in this model, we reshape the dataset into 48*48 as this pretrained model required a minimum size of 48*48. The training process for dense CNN takes lots of time and effort. If the GPU has better performance, I could increase the epoches and the model accuracy can be improved.\n",
        "\n"
      ]
    },
    {
      "metadata": {
        "id": "NHCw2p2lHTWF",
        "colab_type": "text"
      },
      "cell_type": "markdown",
      "source": [
        "3.1 RNN"
      ]
    },
    {
      "metadata": {
        "id": "nL2VbFJDHSng",
        "colab_type": "code",
        "colab": {}
      },
      "cell_type": "code",
      "source": [
        "benigh = pd.read_csv('https://s3.amazonaws.com/anly-590/url-classification/benign-urls.txt')\n",
        "malicious = pd.read_csv('https://s3.amazonaws.com/anly-590/url-classification/malicious-urls.txt')"
      ],
      "execution_count": 0,
      "outputs": []
    },
    {
      "metadata": {
        "id": "13RKlmWhHYpL",
        "colab_type": "code",
        "colab": {
          "base_uri": "https://localhost:8080/",
          "height": 204
        },
        "outputId": "05ca3579-fdec-4795-cd18-dfc452e1b3fc"
      },
      "cell_type": "code",
      "source": [
        "benigh.head(5)"
      ],
      "execution_count": 14,
      "outputs": [
        {
          "output_type": "execute_result",
          "data": {
            "text/html": [
              "<div>\n",
              "<style scoped>\n",
              "    .dataframe tbody tr th:only-of-type {\n",
              "        vertical-align: middle;\n",
              "    }\n",
              "\n",
              "    .dataframe tbody tr th {\n",
              "        vertical-align: top;\n",
              "    }\n",
              "\n",
              "    .dataframe thead th {\n",
              "        text-align: right;\n",
              "    }\n",
              "</style>\n",
              "<table border=\"1\" class=\"dataframe\">\n",
              "  <thead>\n",
              "    <tr style=\"text-align: right;\">\n",
              "      <th></th>\n",
              "      <th># GOOGLE</th>\n",
              "    </tr>\n",
              "  </thead>\n",
              "  <tbody>\n",
              "    <tr>\n",
              "      <th>0</th>\n",
              "      <td>.0.blogger.gmodules.com</td>\n",
              "    </tr>\n",
              "    <tr>\n",
              "      <th>1</th>\n",
              "      <td>.0.client-channel.google.com</td>\n",
              "    </tr>\n",
              "    <tr>\n",
              "      <th>2</th>\n",
              "      <td>.0.docs.google.com</td>\n",
              "    </tr>\n",
              "    <tr>\n",
              "      <th>3</th>\n",
              "      <td>.0.drive.google.com</td>\n",
              "    </tr>\n",
              "    <tr>\n",
              "      <th>4</th>\n",
              "      <td>.0.gvt0.cn</td>\n",
              "    </tr>\n",
              "  </tbody>\n",
              "</table>\n",
              "</div>"
            ],
            "text/plain": [
              "                       # GOOGLE\n",
              "0       .0.blogger.gmodules.com\n",
              "1  .0.client-channel.google.com\n",
              "2            .0.docs.google.com\n",
              "3           .0.drive.google.com\n",
              "4                    .0.gvt0.cn"
            ]
          },
          "metadata": {
            "tags": []
          },
          "execution_count": 14
        }
      ]
    },
    {
      "metadata": {
        "id": "GQZnDzgqHaxc",
        "colab_type": "code",
        "colab": {
          "base_uri": "https://localhost:8080/",
          "height": 204
        },
        "outputId": "fccfc645-c218-4dcc-907c-12ab2b3b794b"
      },
      "cell_type": "code",
      "source": [
        "benigh.columns = ['url']\n",
        "benigh.head(5)"
      ],
      "execution_count": 16,
      "outputs": [
        {
          "output_type": "execute_result",
          "data": {
            "text/html": [
              "<div>\n",
              "<style scoped>\n",
              "    .dataframe tbody tr th:only-of-type {\n",
              "        vertical-align: middle;\n",
              "    }\n",
              "\n",
              "    .dataframe tbody tr th {\n",
              "        vertical-align: top;\n",
              "    }\n",
              "\n",
              "    .dataframe thead th {\n",
              "        text-align: right;\n",
              "    }\n",
              "</style>\n",
              "<table border=\"1\" class=\"dataframe\">\n",
              "  <thead>\n",
              "    <tr style=\"text-align: right;\">\n",
              "      <th></th>\n",
              "      <th>url</th>\n",
              "    </tr>\n",
              "  </thead>\n",
              "  <tbody>\n",
              "    <tr>\n",
              "      <th>0</th>\n",
              "      <td>.0.blogger.gmodules.com</td>\n",
              "    </tr>\n",
              "    <tr>\n",
              "      <th>1</th>\n",
              "      <td>.0.client-channel.google.com</td>\n",
              "    </tr>\n",
              "    <tr>\n",
              "      <th>2</th>\n",
              "      <td>.0.docs.google.com</td>\n",
              "    </tr>\n",
              "    <tr>\n",
              "      <th>3</th>\n",
              "      <td>.0.drive.google.com</td>\n",
              "    </tr>\n",
              "    <tr>\n",
              "      <th>4</th>\n",
              "      <td>.0.gvt0.cn</td>\n",
              "    </tr>\n",
              "  </tbody>\n",
              "</table>\n",
              "</div>"
            ],
            "text/plain": [
              "                            url\n",
              "0       .0.blogger.gmodules.com\n",
              "1  .0.client-channel.google.com\n",
              "2            .0.docs.google.com\n",
              "3           .0.drive.google.com\n",
              "4                    .0.gvt0.cn"
            ]
          },
          "metadata": {
            "tags": []
          },
          "execution_count": 16
        }
      ]
    },
    {
      "metadata": {
        "id": "UZHOjYMSHc1y",
        "colab_type": "code",
        "colab": {
          "base_uri": "https://localhost:8080/",
          "height": 204
        },
        "outputId": "be44485d-92e0-4a85-b274-eb07d14a507f"
      },
      "cell_type": "code",
      "source": [
        "malicious.head(5)"
      ],
      "execution_count": 17,
      "outputs": [
        {
          "output_type": "execute_result",
          "data": {
            "text/html": [
              "<div>\n",
              "<style scoped>\n",
              "    .dataframe tbody tr th:only-of-type {\n",
              "        vertical-align: middle;\n",
              "    }\n",
              "\n",
              "    .dataframe tbody tr th {\n",
              "        vertical-align: top;\n",
              "    }\n",
              "\n",
              "    .dataframe thead th {\n",
              "        text-align: right;\n",
              "    }\n",
              "</style>\n",
              "<table border=\"1\" class=\"dataframe\">\n",
              "  <thead>\n",
              "    <tr style=\"text-align: right;\">\n",
              "      <th></th>\n",
              "      <th>.1337x.pl</th>\n",
              "    </tr>\n",
              "  </thead>\n",
              "  <tbody>\n",
              "    <tr>\n",
              "      <th>0</th>\n",
              "      <td>.1link.io</td>\n",
              "    </tr>\n",
              "    <tr>\n",
              "      <th>1</th>\n",
              "      <td>.1n.pm</td>\n",
              "    </tr>\n",
              "    <tr>\n",
              "      <th>2</th>\n",
              "      <td>.22apple.com</td>\n",
              "    </tr>\n",
              "    <tr>\n",
              "      <th>3</th>\n",
              "      <td>.22find.com</td>\n",
              "    </tr>\n",
              "    <tr>\n",
              "      <th>4</th>\n",
              "      <td>.2s5m19yk.ru</td>\n",
              "    </tr>\n",
              "  </tbody>\n",
              "</table>\n",
              "</div>"
            ],
            "text/plain": [
              "      .1337x.pl\n",
              "0     .1link.io\n",
              "1        .1n.pm\n",
              "2  .22apple.com\n",
              "3   .22find.com\n",
              "4  .2s5m19yk.ru"
            ]
          },
          "metadata": {
            "tags": []
          },
          "execution_count": 17
        }
      ]
    },
    {
      "metadata": {
        "id": "QNxLEgHtHe_W",
        "colab_type": "code",
        "colab": {
          "base_uri": "https://localhost:8080/",
          "height": 204
        },
        "outputId": "18d861bf-4233-4d14-b800-0d57040cf86a"
      },
      "cell_type": "code",
      "source": [
        "malicious.columns = ['url']\n",
        "malicious.head(5)"
      ],
      "execution_count": 18,
      "outputs": [
        {
          "output_type": "execute_result",
          "data": {
            "text/html": [
              "<div>\n",
              "<style scoped>\n",
              "    .dataframe tbody tr th:only-of-type {\n",
              "        vertical-align: middle;\n",
              "    }\n",
              "\n",
              "    .dataframe tbody tr th {\n",
              "        vertical-align: top;\n",
              "    }\n",
              "\n",
              "    .dataframe thead th {\n",
              "        text-align: right;\n",
              "    }\n",
              "</style>\n",
              "<table border=\"1\" class=\"dataframe\">\n",
              "  <thead>\n",
              "    <tr style=\"text-align: right;\">\n",
              "      <th></th>\n",
              "      <th>url</th>\n",
              "    </tr>\n",
              "  </thead>\n",
              "  <tbody>\n",
              "    <tr>\n",
              "      <th>0</th>\n",
              "      <td>.1link.io</td>\n",
              "    </tr>\n",
              "    <tr>\n",
              "      <th>1</th>\n",
              "      <td>.1n.pm</td>\n",
              "    </tr>\n",
              "    <tr>\n",
              "      <th>2</th>\n",
              "      <td>.22apple.com</td>\n",
              "    </tr>\n",
              "    <tr>\n",
              "      <th>3</th>\n",
              "      <td>.22find.com</td>\n",
              "    </tr>\n",
              "    <tr>\n",
              "      <th>4</th>\n",
              "      <td>.2s5m19yk.ru</td>\n",
              "    </tr>\n",
              "  </tbody>\n",
              "</table>\n",
              "</div>"
            ],
            "text/plain": [
              "            url\n",
              "0     .1link.io\n",
              "1        .1n.pm\n",
              "2  .22apple.com\n",
              "3   .22find.com\n",
              "4  .2s5m19yk.ru"
            ]
          },
          "metadata": {
            "tags": []
          },
          "execution_count": 18
        }
      ]
    },
    {
      "metadata": {
        "id": "YMVIaLkTHg8x",
        "colab_type": "code",
        "colab": {}
      },
      "cell_type": "code",
      "source": [
        "from keras.preprocessing import sequence\n",
        "from keras.layers import Dense, SimpleRNN, LSTM, Embedding\n",
        "from keras.models import Sequential\n",
        "import numpy as np"
      ],
      "execution_count": 0,
      "outputs": []
    },
    {
      "metadata": {
        "id": "81q5TeuGHi9R",
        "colab_type": "code",
        "colab": {}
      },
      "cell_type": "code",
      "source": [
        "from keras.utils.np_utils import to_categorical\n",
        "from keras.preprocessing.text import Tokenizer\n",
        "from keras.preprocessing.sequence import pad_sequences\n",
        "from keras.layers import Bidirectional, SimpleRNN\n",
        "from keras.layers import Dense, Input, LSTM, Embedding, Dropout, Activation, GRU, SpatialDropout1D, Dropout, Conv1D, MaxPool1D, Flatten\n",
        "from keras.models import Model\n",
        "from sklearn.model_selection import train_test_split"
      ],
      "execution_count": 0,
      "outputs": []
    },
    {
      "metadata": {
        "id": "TSeplZpmHlhL",
        "colab_type": "code",
        "colab": {}
      },
      "cell_type": "code",
      "source": [
        "benigh['class'] = 1\n",
        "malicious['class'] = 0\n",
        "np.random.seed(0)"
      ],
      "execution_count": 0,
      "outputs": []
    },
    {
      "metadata": {
        "id": "u5m-xDTEHoU5",
        "colab_type": "code",
        "colab": {}
      },
      "cell_type": "code",
      "source": [
        "df = pd.concat([benigh, malicious], ignore_index = True).reset_index()\n",
        "tokenizer = Tokenizer(filters=None, char_level=True)\n",
        "tokenizer.fit_on_texts(df['url'])\n",
        "\n",
        "X_train = tokenizer.texts_to_sequences(df['url'])\n",
        "y_train = df['class']\n",
        "#y_train = np_utils.to_categorical(df['class'], 2)\n",
        "\n",
        "max_features = 1000\n",
        "maxlen = df['url'].str.len().max()"
      ],
      "execution_count": 0,
      "outputs": []
    },
    {
      "metadata": {
        "id": "-cTXt7DGHqIy",
        "colab_type": "code",
        "colab": {}
      },
      "cell_type": "code",
      "source": [
        "input_train, input_test, y_train, y_test  = train_test_split(X_train, y_train, test_size=0.3, random_state=0)"
      ],
      "execution_count": 0,
      "outputs": []
    },
    {
      "metadata": {
        "id": "6SLzKuzcHsVd",
        "colab_type": "code",
        "colab": {}
      },
      "cell_type": "code",
      "source": [
        "input_train = sequence.pad_sequences(input_train, maxlen)\n",
        "input_test = sequence.pad_sequences(input_test, maxlen)"
      ],
      "execution_count": 0,
      "outputs": []
    },
    {
      "metadata": {
        "id": "9_1Q5F5mHuom",
        "colab_type": "code",
        "colab": {
          "base_uri": "https://localhost:8080/",
          "height": 34
        },
        "outputId": "b73f9ad2-496e-47a2-df4a-0877ed92e052"
      },
      "cell_type": "code",
      "source": [
        "input_train.shape"
      ],
      "execution_count": 26,
      "outputs": [
        {
          "output_type": "execute_result",
          "data": {
            "text/plain": [
              "(47145, 86)"
            ]
          },
          "metadata": {
            "tags": []
          },
          "execution_count": 26
        }
      ]
    },
    {
      "metadata": {
        "id": "8NUJi9vUHw12",
        "colab_type": "code",
        "colab": {}
      },
      "cell_type": "code",
      "source": [
        "rnn_model = Sequential()\n",
        "rnn_model.add(Embedding(max_features, 64))\n",
        "rnn_model.add(SimpleRNN(32))\n",
        "rnn_model.add(Dense(1, activation='sigmoid'))"
      ],
      "execution_count": 0,
      "outputs": []
    },
    {
      "metadata": {
        "id": "nRue4yqaHyyn",
        "colab_type": "code",
        "colab": {}
      },
      "cell_type": "code",
      "source": [
        "rnn_model.compile(optimizer=\"rmsprop\", loss=\"binary_crossentropy\", metrics=[\"acc\"])"
      ],
      "execution_count": 0,
      "outputs": []
    },
    {
      "metadata": {
        "id": "lV7pbJdPH0r_",
        "colab_type": "code",
        "colab": {
          "base_uri": "https://localhost:8080/",
          "height": 204
        },
        "outputId": "480824cc-3b60-4b22-9225-af35f40f8531"
      },
      "cell_type": "code",
      "source": [
        "rnn_model.fit(input_train, y_train, epochs=5, batch_size=128)"
      ],
      "execution_count": 29,
      "outputs": [
        {
          "output_type": "stream",
          "text": [
            "Epoch 1/5\n",
            "47145/47145 [==============================] - 19s 409us/step - loss: 0.0746 - acc: 0.9797\n",
            "Epoch 2/5\n",
            "47145/47145 [==============================] - 18s 392us/step - loss: 0.0281 - acc: 0.9876\n",
            "Epoch 3/5\n",
            "47145/47145 [==============================] - 19s 395us/step - loss: 0.0228 - acc: 0.9895\n",
            "Epoch 4/5\n",
            "47145/47145 [==============================] - 18s 390us/step - loss: 0.0214 - acc: 0.9901\n",
            "Epoch 5/5\n",
            "47145/47145 [==============================] - 19s 395us/step - loss: 0.0197 - acc: 0.9908\n"
          ],
          "name": "stdout"
        },
        {
          "output_type": "execute_result",
          "data": {
            "text/plain": [
              "<keras.callbacks.History at 0x7f584d223668>"
            ]
          },
          "metadata": {
            "tags": []
          },
          "execution_count": 29
        }
      ]
    },
    {
      "metadata": {
        "id": "LNc0fgFrH24H",
        "colab_type": "code",
        "colab": {
          "base_uri": "https://localhost:8080/",
          "height": 68
        },
        "outputId": "607c257a-3498-4e21-d1b1-bf2984ed4112"
      },
      "cell_type": "code",
      "source": [
        "score = rnn_model.evaluate(input_test, y_test, verbose=1)\n",
        "print('Test loss:', score[0])\n",
        "print('Test accuracy:', score[1])"
      ],
      "execution_count": 30,
      "outputs": [
        {
          "output_type": "stream",
          "text": [
            "20206/20206 [==============================] - 5s 262us/step\n",
            "Test loss: 0.037806882052088854\n",
            "Test accuracy: 0.9848064931208552\n"
          ],
          "name": "stdout"
        }
      ]
    },
    {
      "metadata": {
        "id": "NTd3cu9-H5tD",
        "colab_type": "text"
      },
      "cell_type": "markdown",
      "source": [
        " 3.2 CNN"
      ]
    },
    {
      "metadata": {
        "id": "CgoiY83JH8cM",
        "colab_type": "code",
        "colab": {
          "base_uri": "https://localhost:8080/",
          "height": 272
        },
        "outputId": "8eaf0fb2-880b-4a72-c297-606f3405c97e"
      },
      "cell_type": "code",
      "source": [
        "#from keras.layers import Conv1D\n",
        "\n",
        "cnn_model = Sequential()\n",
        "cnn_model.add(Embedding(max_features, 64, input_length = maxlen))\n",
        "cnn_model.add(Conv1D(32, 3, activation='relu'))\n",
        "cnn_model.add(Flatten())\n",
        "cnn_model.add(Dense(1, activation='sigmoid'))\n",
        "cnn_model.compile(optimizer=\"rmsprop\", loss=\"binary_crossentropy\", metrics=[\"acc\"])\n",
        "cnn_model.summary()"
      ],
      "execution_count": 31,
      "outputs": [
        {
          "output_type": "stream",
          "text": [
            "_________________________________________________________________\n",
            "Layer (type)                 Output Shape              Param #   \n",
            "=================================================================\n",
            "embedding_2 (Embedding)      (None, 86, 64)            64000     \n",
            "_________________________________________________________________\n",
            "conv1d_1 (Conv1D)            (None, 84, 32)            6176      \n",
            "_________________________________________________________________\n",
            "flatten_1 (Flatten)          (None, 2688)              0         \n",
            "_________________________________________________________________\n",
            "dense_2 (Dense)              (None, 1)                 2689      \n",
            "=================================================================\n",
            "Total params: 72,865\n",
            "Trainable params: 72,865\n",
            "Non-trainable params: 0\n",
            "_________________________________________________________________\n"
          ],
          "name": "stdout"
        }
      ]
    },
    {
      "metadata": {
        "id": "WPPckTwEH-ZE",
        "colab_type": "code",
        "colab": {
          "base_uri": "https://localhost:8080/",
          "height": 442
        },
        "outputId": "55704d89-ad4d-44f8-9fad-885be4ba9ba0"
      },
      "cell_type": "code",
      "source": [
        "cnn_model = Sequential()\n",
        "cnn_model.add(Embedding(max_features, 64, input_length = maxlen))\n",
        "cnn_model.add(Conv1D(128,activation='relu', kernel_size=3,padding='valid'))\n",
        "cnn_model.add(SpatialDropout1D(0.1))\n",
        "cnn_model.add(MaxPool1D())\n",
        "cnn_model.add(Conv1D(64,activation='relu', kernel_size=3,padding='valid'))\n",
        "cnn_model.add(SpatialDropout1D(0.1))\n",
        "cnn_model.add(MaxPool1D())\n",
        "cnn_model.add(Flatten())\n",
        "cnn_model.add(Dense(1, activation='sigmoid'))\n",
        "cnn_model.summary()"
      ],
      "execution_count": 32,
      "outputs": [
        {
          "output_type": "stream",
          "text": [
            "_________________________________________________________________\n",
            "Layer (type)                 Output Shape              Param #   \n",
            "=================================================================\n",
            "embedding_3 (Embedding)      (None, 86, 64)            64000     \n",
            "_________________________________________________________________\n",
            "conv1d_2 (Conv1D)            (None, 84, 128)           24704     \n",
            "_________________________________________________________________\n",
            "spatial_dropout1d_1 (Spatial (None, 84, 128)           0         \n",
            "_________________________________________________________________\n",
            "max_pooling1d_1 (MaxPooling1 (None, 42, 128)           0         \n",
            "_________________________________________________________________\n",
            "conv1d_3 (Conv1D)            (None, 40, 64)            24640     \n",
            "_________________________________________________________________\n",
            "spatial_dropout1d_2 (Spatial (None, 40, 64)            0         \n",
            "_________________________________________________________________\n",
            "max_pooling1d_2 (MaxPooling1 (None, 20, 64)            0         \n",
            "_________________________________________________________________\n",
            "flatten_2 (Flatten)          (None, 1280)              0         \n",
            "_________________________________________________________________\n",
            "dense_3 (Dense)              (None, 1)                 1281      \n",
            "=================================================================\n",
            "Total params: 114,625\n",
            "Trainable params: 114,625\n",
            "Non-trainable params: 0\n",
            "_________________________________________________________________\n"
          ],
          "name": "stdout"
        }
      ]
    },
    {
      "metadata": {
        "id": "d7AhnYFqIAg5",
        "colab_type": "code",
        "colab": {
          "base_uri": "https://localhost:8080/",
          "height": 204
        },
        "outputId": "161938eb-4ff0-442b-8e58-1168bd347009"
      },
      "cell_type": "code",
      "source": [
        "cnn_model.compile(loss='binary_crossentropy',optimizer='adam', metrics=['accuracy'])\n",
        "cnn_model.fit(input_train, y_train, epochs=5, batch_size=128)"
      ],
      "execution_count": 33,
      "outputs": [
        {
          "output_type": "stream",
          "text": [
            "Epoch 1/5\n",
            "47145/47145 [==============================] - 42s 901us/step - loss: 0.0693 - acc: 0.9811\n",
            "Epoch 2/5\n",
            "47145/47145 [==============================] - 42s 901us/step - loss: 0.0227 - acc: 0.9890\n",
            "Epoch 3/5\n",
            "47145/47145 [==============================] - 41s 875us/step - loss: 0.0196 - acc: 0.9908\n",
            "Epoch 4/5\n",
            "47145/47145 [==============================] - 42s 881us/step - loss: 0.0181 - acc: 0.9919\n",
            "Epoch 5/5\n",
            "47145/47145 [==============================] - 42s 883us/step - loss: 0.0165 - acc: 0.9926\n"
          ],
          "name": "stdout"
        },
        {
          "output_type": "execute_result",
          "data": {
            "text/plain": [
              "<keras.callbacks.History at 0x7f5881ac7518>"
            ]
          },
          "metadata": {
            "tags": []
          },
          "execution_count": 33
        }
      ]
    },
    {
      "metadata": {
        "id": "Ekp1aJ1uICxW",
        "colab_type": "code",
        "colab": {
          "base_uri": "https://localhost:8080/",
          "height": 68
        },
        "outputId": "c97162cd-44ee-4793-efa5-a52b4e8f3c49"
      },
      "cell_type": "code",
      "source": [
        "score = cnn_model.evaluate(input_test, y_test, verbose=1)\n",
        "print('Test loss:', score[0])\n",
        "print('Test accuracy:', score[1])"
      ],
      "execution_count": 34,
      "outputs": [
        {
          "output_type": "stream",
          "text": [
            "20206/20206 [==============================] - 5s 248us/step\n",
            "Test loss: 0.021078685086080753\n",
            "Test accuracy: 0.9904978719192319\n"
          ],
          "name": "stdout"
        }
      ]
    },
    {
      "metadata": {
        "id": "Q0dPmb4NIEv2",
        "colab_type": "text"
      },
      "cell_type": "markdown",
      "source": [
        "3.3 "
      ]
    },
    {
      "metadata": {
        "id": "TETd2tnLIHWx",
        "colab_type": "code",
        "colab": {}
      },
      "cell_type": "code",
      "source": [
        "from sklearn.metrics import roc_curve, auc\n",
        "\n",
        "pred_y_rnn = rnn_model.predict(input_test).ravel()\n",
        "fpr_rnn, tpr_rnn, rnn_ = roc_curve(y_test, pred_y_rnn)\n",
        "\n",
        "pred_y_cnn = cnn_model.predict(input_test).ravel()\n",
        "fpr_cnn, tpr_cnn, cnn_ = roc_curve(y_test, pred_y_cnn)"
      ],
      "execution_count": 0,
      "outputs": []
    },
    {
      "metadata": {
        "id": "bHLzyHm5IJXN",
        "colab_type": "code",
        "colab": {}
      },
      "cell_type": "code",
      "source": [
        "auc_rnn = auc(fpr_rnn, tpr_rnn)\n",
        "auc_cnn = auc(fpr_cnn, tpr_cnn)"
      ],
      "execution_count": 0,
      "outputs": []
    },
    {
      "metadata": {
        "id": "P3YhB_luILKV",
        "colab_type": "code",
        "colab": {
          "base_uri": "https://localhost:8080/",
          "height": 314
        },
        "outputId": "99c50967-46fc-4d2d-ef66-f7c7e40532b8"
      },
      "cell_type": "code",
      "source": [
        "plt.figure()\n",
        "plt.plot([0, 1], [0, 1], 'k--')\n",
        "plt.plot(fpr_rnn, tpr_rnn)\n",
        "plt.plot(fpr_cnn, tpr_cnn)\n",
        "plt.title('ROC curve')\n",
        "plt.show()\n",
        "\n",
        "print(\"Rnn Accuracy\", auc_rnn)\n",
        "print(\"Cnn Accuracy\", auc_cnn)"
      ],
      "execution_count": 38,
      "outputs": [
        {
          "output_type": "display_data",
          "data": {
            "image/png": "[encoded data removed]",
            "text/plain": [
              "<matplotlib.figure.Figure at 0x7f584953f240>"
            ]
          },
          "metadata": {
            "tags": []
          }
        },
        {
          "output_type": "stream",
          "text": [
            "Rnn Accuracy 0.99034168163235\n",
            "Cnn Accuracy 0.9965798192980748\n"
          ],
          "name": "stdout"
        }
      ]
    },
    {
      "metadata": {
        "id": "eHnaK6xLINYA",
        "colab_type": "text"
      },
      "cell_type": "markdown",
      "source": [
        "The AUC scores of both CNN and RNN are similar to each other and extremely close to 1. Thus both model have great performance. "
      ]
    }
  ]
}